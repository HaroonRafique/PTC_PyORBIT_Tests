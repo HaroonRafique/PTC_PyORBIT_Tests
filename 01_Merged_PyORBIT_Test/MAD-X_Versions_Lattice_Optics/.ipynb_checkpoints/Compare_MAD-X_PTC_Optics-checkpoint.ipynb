{
 "cells": [
  {
   "cell_type": "markdown",
   "metadata": {},
   "source": [
    "# Comparison of calculated MAD-X and PTC Optics\n",
    "\n",
    "MAD-X Versions:\n",
    "- madx-linux64_v5_02_00\n",
    "- madx-linux64_v5_06_01 (upgraded PTC)\n",
    "- madx-linux64_v5_08_01 (upgraded PTC again?)"
   ]
  },
  {
   "cell_type": "markdown",
   "metadata": {},
   "source": [
    "Lattice: \n",
    "- CERN Proton Synchrotron (Pre-LIU 1.2 GeV injection)\n",
    "- Injection bump (to simulate tune swing etc)"
   ]
  },
  {
   "cell_type": "markdown",
   "metadata": {},
   "source": [
    "- [ ] load and compare optimised_bare_simplified.tfs (PTC Twiss time=False)\n",
    "- [ ] load and compare optimised_flat_file.tfs (PTC Twiss time=True)\n",
    "- [ ] load and compare 1.tfs (First step in injection bump, MAD-X TWISS)\n",
    "- [ ] load and compare 1.ptc (First step in injection bump, PTC TWISS)"
   ]
  },
  {
   "cell_type": "markdown",
   "metadata": {},
   "source": [
    "Directories\n",
    "- MAD-X v5.02: MADX_5_02_00/\n",
    "    - MADX_5_02_00/optimised_bare_simplified.tfs\n",
    "    - MADX_5_02_00/optimised_flat_file.tfs\n",
    "    - MADX_5_02_00/MADX_Twiss/1.tfs\n",
    "    - MADX_5_02_00/PTC_Twiss/1.ptc\n",
    "- MAD-X v5.06.01: MADX_5_06_01/\n",
    "    - MADX_5_06_01/optimised_bare_simplified.tfs\n",
    "    - MADX_5_06_01/optimised_flat_file.tfs\n",
    "    - MADX_5_06_01/MADX_Twiss/1.tfs\n",
    "    - MADX_5_06_01/PTC_Twiss/1.ptc\n",
    "- MAD-X v5.08.01: MADX_5_08_01/\n",
    "    - MADX_5_08_01/optimised_bare_simplified.tfs\n",
    "    - MADX_5_08_01/optimised_flat_file.tfs\n",
    "    - MADX_5_08_01/MADX_Twiss/1.tfs\n",
    "    - MADX_5_08_01/PTC_Twiss/1.ptc"
   ]
  },
  {
   "cell_type": "code",
   "execution_count": 1,
   "metadata": {},
   "outputs": [],
   "source": [
    "import os\n",
    "import tfs"
   ]
  },
  {
   "cell_type": "markdown",
   "metadata": {},
   "source": [
    "#### Functions"
   ]
  },
  {
   "cell_type": "code",
   "execution_count": 9,
   "metadata": {},
   "outputs": [],
   "source": [
    "def pandas_lowercase_all_strings(df):    \n",
    "    df.columns = map(str.lower, df.columns)\n",
    "\n",
    "    for key in df.keys():\n",
    "        if df[str(key)].dtype == 'O':\n",
    "            #print(str(key+' column now lowercase'))\n",
    "            df[str(key)] = df[str(key)].str.lower()\n",
    "            \n",
    "    return df"
   ]
  },
  {
   "cell_type": "markdown",
   "metadata": {},
   "source": [
    "> #### Loading a TFS file is simple\n",
    "> data_frame = tfs.read(\"path_to_input.tfs\", index=\"index_column\")\n",
    "> \n",
    "> #### You can access and modify the headers with the .headers attribute\n",
    "> useful_variable = data_frame.headers[\"SOME_KEY\"]\n",
    "> data_frame.headers[\"NEW_KEY\"] = some_variable\n",
    "> \n",
    "> #### Manipulate data as you do with pandas DataFrames\n",
    "> data_frame[\"NEWCOL\"] = data_frame.COL_A * data_frame.COL_B\n",
    "> \n",
    "> #### You can check the validity of a TfsDataFrame, and choose the behavior in case of errors\n",
    "> tfs.frame.validate(data_frame, non_unique_behavior=\"raise\")  # or choose \"warn\"\n",
    "> \n",
    "> #### Writing out to disk is simple too\n",
    "> tfs.write(\"path_to_output.tfs\", data_frame, save_index=\"index_column\")"
   ]
  },
  {
   "cell_type": "markdown",
   "metadata": {},
   "source": [
    "### Load Bare PTC Twiss (Time = False)"
   ]
  },
  {
   "cell_type": "code",
   "execution_count": 10,
   "metadata": {},
   "outputs": [],
   "source": [
    "df_52_ptc_bare = tfs.read('MADX_5_02_00/optimised_bare_simplified.tfs')\n",
    "df_52_ptc_bare = pandas_lowercase_all_strings(df_52_ptc_bare)"
   ]
  },
  {
   "cell_type": "code",
   "execution_count": null,
   "metadata": {},
   "outputs": [],
   "source": [
    "df_56_ptc_bare = tfs.read('MADX_5_06_01/optimised_bare_simplified.tfs')\n",
    "df_56_ptc_bare = pandas_lowercase_all_strings(df_56_ptc_bare)"
   ]
  },
  {
   "cell_type": "code",
   "execution_count": null,
   "metadata": {},
   "outputs": [],
   "source": [
    "df_58_ptc_bare = tfs.read('MADX_5_08_01/optimised_bare_simplified.tfs')\n",
    "df_58_ptc_bare = pandas_lowercase_all_strings(df_58_ptc_bare)"
   ]
  },
  {
   "cell_type": "code",
   "execution_count": 11,
   "metadata": {},
   "outputs": [
    {
     "data": {
      "text/html": [
       "<div>\n",
       "<style scoped>\n",
       "    .dataframe tbody tr th:only-of-type {\n",
       "        vertical-align: middle;\n",
       "    }\n",
       "\n",
       "    .dataframe tbody tr th {\n",
       "        vertical-align: top;\n",
       "    }\n",
       "\n",
       "    .dataframe thead th {\n",
       "        text-align: right;\n",
       "    }\n",
       "</style>\n",
       "<table border=\"1\" class=\"dataframe\">\n",
       "  <thead>\n",
       "    <tr style=\"text-align: right;\">\n",
       "      <th></th>\n",
       "      <th>name</th>\n",
       "      <th>s</th>\n",
       "      <th>betx</th>\n",
       "      <th>bety</th>\n",
       "      <th>disp1</th>\n",
       "      <th>disp3</th>\n",
       "      <th>x</th>\n",
       "      <th>px</th>\n",
       "      <th>y</th>\n",
       "      <th>py</th>\n",
       "    </tr>\n",
       "  </thead>\n",
       "  <tbody>\n",
       "    <tr>\n",
       "      <th>0</th>\n",
       "      <td>pr.bwsh65</td>\n",
       "      <td>0.0000</td>\n",
       "      <td>22.450144</td>\n",
       "      <td>11.705478</td>\n",
       "      <td>3.122081</td>\n",
       "      <td>0.0</td>\n",
       "      <td>0.0</td>\n",
       "      <td>0.0</td>\n",
       "      <td>0.0</td>\n",
       "      <td>0.0</td>\n",
       "    </tr>\n",
       "    <tr>\n",
       "      <th>1</th>\n",
       "      <td>drift_0</td>\n",
       "      <td>0.7970</td>\n",
       "      <td>22.433132</td>\n",
       "      <td>11.672422</td>\n",
       "      <td>3.121197</td>\n",
       "      <td>0.0</td>\n",
       "      <td>0.0</td>\n",
       "      <td>0.0</td>\n",
       "      <td>0.0</td>\n",
       "      <td>0.0</td>\n",
       "    </tr>\n",
       "    <tr>\n",
       "      <th>2</th>\n",
       "      <td>ps65$end</td>\n",
       "      <td>0.7970</td>\n",
       "      <td>22.433132</td>\n",
       "      <td>11.672422</td>\n",
       "      <td>3.121197</td>\n",
       "      <td>0.0</td>\n",
       "      <td>0.0</td>\n",
       "      <td>0.0</td>\n",
       "      <td>0.0</td>\n",
       "      <td>0.0</td>\n",
       "    </tr>\n",
       "    <tr>\n",
       "      <th>3</th>\n",
       "      <td>pr.bht65$start</td>\n",
       "      <td>0.7970</td>\n",
       "      <td>22.433132</td>\n",
       "      <td>11.672422</td>\n",
       "      <td>3.121197</td>\n",
       "      <td>0.0</td>\n",
       "      <td>0.0</td>\n",
       "      <td>0.0</td>\n",
       "      <td>0.0</td>\n",
       "      <td>0.0</td>\n",
       "    </tr>\n",
       "    <tr>\n",
       "      <th>4</th>\n",
       "      <td>mp65_f</td>\n",
       "      <td>0.7970</td>\n",
       "      <td>22.433132</td>\n",
       "      <td>11.672422</td>\n",
       "      <td>3.121197</td>\n",
       "      <td>0.0</td>\n",
       "      <td>0.0</td>\n",
       "      <td>0.0</td>\n",
       "      <td>0.0</td>\n",
       "      <td>0.0</td>\n",
       "    </tr>\n",
       "    <tr>\n",
       "      <th>...</th>\n",
       "      <td>...</td>\n",
       "      <td>...</td>\n",
       "      <td>...</td>\n",
       "      <td>...</td>\n",
       "      <td>...</td>\n",
       "      <td>...</td>\n",
       "      <td>...</td>\n",
       "      <td>...</td>\n",
       "      <td>...</td>\n",
       "      <td>...</td>\n",
       "    </tr>\n",
       "    <tr>\n",
       "      <th>1124</th>\n",
       "      <td>mp64_f</td>\n",
       "      <td>627.5155</td>\n",
       "      <td>22.524560</td>\n",
       "      <td>11.848873</td>\n",
       "      <td>3.122972</td>\n",
       "      <td>0.0</td>\n",
       "      <td>0.0</td>\n",
       "      <td>0.0</td>\n",
       "      <td>0.0</td>\n",
       "      <td>0.0</td>\n",
       "    </tr>\n",
       "    <tr>\n",
       "      <th>1125</th>\n",
       "      <td>pr.bhu64$end</td>\n",
       "      <td>627.5155</td>\n",
       "      <td>22.524560</td>\n",
       "      <td>11.848873</td>\n",
       "      <td>3.122972</td>\n",
       "      <td>0.0</td>\n",
       "      <td>0.0</td>\n",
       "      <td>0.0</td>\n",
       "      <td>0.0</td>\n",
       "      <td>0.0</td>\n",
       "    </tr>\n",
       "    <tr>\n",
       "      <th>1126</th>\n",
       "      <td>ps65$start</td>\n",
       "      <td>627.5155</td>\n",
       "      <td>22.524560</td>\n",
       "      <td>11.848873</td>\n",
       "      <td>3.122972</td>\n",
       "      <td>0.0</td>\n",
       "      <td>0.0</td>\n",
       "      <td>0.0</td>\n",
       "      <td>0.0</td>\n",
       "      <td>0.0</td>\n",
       "    </tr>\n",
       "    <tr>\n",
       "      <th>1127</th>\n",
       "      <td>drift_4</td>\n",
       "      <td>628.3185</td>\n",
       "      <td>22.450144</td>\n",
       "      <td>11.705478</td>\n",
       "      <td>3.122081</td>\n",
       "      <td>0.0</td>\n",
       "      <td>0.0</td>\n",
       "      <td>0.0</td>\n",
       "      <td>0.0</td>\n",
       "      <td>0.0</td>\n",
       "    </tr>\n",
       "    <tr>\n",
       "      <th>1128</th>\n",
       "      <td>pspr.bwsh65_p_</td>\n",
       "      <td>628.3185</td>\n",
       "      <td>22.450144</td>\n",
       "      <td>11.705478</td>\n",
       "      <td>3.122081</td>\n",
       "      <td>0.0</td>\n",
       "      <td>0.0</td>\n",
       "      <td>0.0</td>\n",
       "      <td>0.0</td>\n",
       "      <td>0.0</td>\n",
       "    </tr>\n",
       "  </tbody>\n",
       "</table>\n",
       "<p>1129 rows × 10 columns</p>\n",
       "</div>"
      ],
      "text/plain": [
       "Headers:\n",
       "    NAME: PTC_TWISS\n",
       "    TYPE: TWISS\n",
       "    SEQUENCE: PS\n",
       "    ...\n",
       "    ORIGIN: MAD-X 5.02.00 Linux 64\n",
       "    DATE: 25/05/22\n",
       "    TIME: 13.20.48\n",
       "\n",
       "                name         s       betx       bety     disp1  disp3    x  \\\n",
       "0          pr.bwsh65    0.0000  22.450144  11.705478  3.122081    0.0  0.0   \n",
       "1            drift_0    0.7970  22.433132  11.672422  3.121197    0.0  0.0   \n",
       "2           ps65$end    0.7970  22.433132  11.672422  3.121197    0.0  0.0   \n",
       "3     pr.bht65$start    0.7970  22.433132  11.672422  3.121197    0.0  0.0   \n",
       "4             mp65_f    0.7970  22.433132  11.672422  3.121197    0.0  0.0   \n",
       "...              ...       ...        ...        ...       ...    ...  ...   \n",
       "1124          mp64_f  627.5155  22.524560  11.848873  3.122972    0.0  0.0   \n",
       "1125    pr.bhu64$end  627.5155  22.524560  11.848873  3.122972    0.0  0.0   \n",
       "1126      ps65$start  627.5155  22.524560  11.848873  3.122972    0.0  0.0   \n",
       "1127         drift_4  628.3185  22.450144  11.705478  3.122081    0.0  0.0   \n",
       "1128  pspr.bwsh65_p_  628.3185  22.450144  11.705478  3.122081    0.0  0.0   \n",
       "\n",
       "       px    y   py  \n",
       "0     0.0  0.0  0.0  \n",
       "1     0.0  0.0  0.0  \n",
       "2     0.0  0.0  0.0  \n",
       "3     0.0  0.0  0.0  \n",
       "4     0.0  0.0  0.0  \n",
       "...   ...  ...  ...  \n",
       "1124  0.0  0.0  0.0  \n",
       "1125  0.0  0.0  0.0  \n",
       "1126  0.0  0.0  0.0  \n",
       "1127  0.0  0.0  0.0  \n",
       "1128  0.0  0.0  0.0  \n",
       "\n",
       "[1129 rows x 10 columns]"
      ]
     },
     "execution_count": 11,
     "metadata": {},
     "output_type": "execute_result"
    }
   ],
   "source": [
    "df_52_ptc_bare"
   ]
  },
  {
   "cell_type": "code",
   "execution_count": 12,
   "metadata": {},
   "outputs": [
    {
     "data": {
      "text/plain": [
       "OrderedDict([('NAME', 'PTC_TWISS'),\n",
       "             ('TYPE', 'TWISS'),\n",
       "             ('SEQUENCE', 'PS'),\n",
       "             ('PARTICLE', 'PROTON'),\n",
       "             ('MASS', 0.938272046),\n",
       "             ('CHARGE', 1.0),\n",
       "             ('ENERGY', 2.336654539),\n",
       "             ('PC', 2.14),\n",
       "             ('GAMMA', 2.49038064),\n",
       "             ('KBUNCH', 1.0),\n",
       "             ('BCURRENT', 0.0),\n",
       "             ('SIGE', 0.0),\n",
       "             ('SIGT', 0.0),\n",
       "             ('NPART', 0.0),\n",
       "             ('EX', 1.0),\n",
       "             ('EY', 1.0),\n",
       "             ('ET', 1.0),\n",
       "             ('DELTAP', 0.0),\n",
       "             ('LENGTH', 628.3185),\n",
       "             ('ALPHA_C', 0.02701405245),\n",
       "             ('ALPHA_C_P', -1000000.0),\n",
       "             ('ALPHA_C_P2', -1000000.0),\n",
       "             ('ALPHA_C_P3', -1000000.0),\n",
       "             ('ETA_C', -0.1342243687),\n",
       "             ('GAMMA_TR', 6.0842231),\n",
       "             ('Q1', 0.209995083),\n",
       "             ('Q2', 0.2449949686),\n",
       "             ('DQ1', 0.7270470186),\n",
       "             ('DQ2', -2.871126997),\n",
       "             ('QS', 0.0),\n",
       "             ('BETA_X_MIN', 11.57106875),\n",
       "             ('BETA_X_MAX', 23.16154528),\n",
       "             ('BETA_Y_MIN', 11.38661766),\n",
       "             ('BETA_Y_MAX', 23.640546),\n",
       "             ('BETA11MIN', 11.57106875),\n",
       "             ('BETA11MAX', 23.16154528),\n",
       "             ('BETA12MIN', 0.0),\n",
       "             ('BETA12MAX', 0.0),\n",
       "             ('BETA13MIN', 0.0),\n",
       "             ('BETA13MAX', 0.0),\n",
       "             ('BETA21MIN', 0.0),\n",
       "             ('BETA21MAX', 0.0),\n",
       "             ('BETA22MIN', 11.38661766),\n",
       "             ('BETA22MAX', 23.640546),\n",
       "             ('BETA23MIN', 0.0),\n",
       "             ('BETA23MAX', 0.0),\n",
       "             ('BETA31MIN', 0.0),\n",
       "             ('BETA31MAX', 0.0),\n",
       "             ('BETA32MIN', 0.0),\n",
       "             ('BETA32MAX', 0.0),\n",
       "             ('BETA33MIN', 0.0),\n",
       "             ('BETA33MAX', 0.0),\n",
       "             ('DISP1MIN', 0.0),\n",
       "             ('DISP1MAX', 3.160555554),\n",
       "             ('DISP2MIN', -0.3517784237),\n",
       "             ('DISP2MAX', 0.3496927194),\n",
       "             ('DISP3MIN', 0.0),\n",
       "             ('DISP3MAX', 0.0),\n",
       "             ('DISP4MIN', 0.0),\n",
       "             ('DISP4MAX', 0.0),\n",
       "             ('ORBIT_X', 0.0),\n",
       "             ('ORBIT_PX', 0.0),\n",
       "             ('ORBIT_Y', 0.0),\n",
       "             ('ORBIT_PY', 0.0),\n",
       "             ('ORBIT_PT', 0.0),\n",
       "             ('ORBIT_-CT', 0.0),\n",
       "             ('XCORMS', 0.0),\n",
       "             ('PXCORMS', 0.0),\n",
       "             ('YCORMS', 0.0),\n",
       "             ('PYCORMS', 0.0),\n",
       "             ('TCORMS', 0.0),\n",
       "             ('PTCORMS', 0.0),\n",
       "             ('XCOMIN', 0.0),\n",
       "             ('XCOMAX', 0.0),\n",
       "             ('PXCOMIN', 0.0),\n",
       "             ('PXCOMAX', 0.0),\n",
       "             ('YCOMIN', 0.0),\n",
       "             ('YCOMAX', 0.0),\n",
       "             ('PYCOMIN', 0.0),\n",
       "             ('PYCOMAX', 0.0),\n",
       "             ('TCOMIN', 0.0),\n",
       "             ('TCOMAX', 0.0),\n",
       "             ('PTCOMIN', 0.0),\n",
       "             ('PTCOMAX', 0.0),\n",
       "             ('TITLE', 'Flat file generation for PTC-PyORBIT'),\n",
       "             ('ORIGIN', 'MAD-X 5.02.00 Linux 64'),\n",
       "             ('DATE', '25/05/22'),\n",
       "             ('TIME', '13.20.48')])"
      ]
     },
     "execution_count": 12,
     "metadata": {},
     "output_type": "execute_result"
    }
   ],
   "source": [
    "df_52_ptc_bare.headers"
   ]
  },
  {
   "cell_type": "markdown",
   "metadata": {},
   "source": [
    "### Load Flat File PTC Twiss (Time = True)"
   ]
  },
  {
   "cell_type": "code",
   "execution_count": 10,
   "metadata": {},
   "outputs": [],
   "source": [
    "df_52_ptc_flat = tfs.read('MADX_5_02_00/optimised_flat_file.tfs')\n",
    "df_52_ptc_flat = pandas_lowercase_all_strings(df_52_ptc_flat)"
   ]
  },
  {
   "cell_type": "code",
   "execution_count": 13,
   "metadata": {},
   "outputs": [],
   "source": [
    "df_56_ptc_flat = tfs.read('MADX_5_06_01/optimised_flat_file.tfs')\n",
    "df_56_ptc_flat = pandas_lowercase_all_strings(df_56_ptc_flat)"
   ]
  },
  {
   "cell_type": "code",
   "execution_count": null,
   "metadata": {},
   "outputs": [],
   "source": [
    "df_58_ptc_flat = tfs.read('MADX_5_08_01/optimised_flat_file.tfs')\n",
    "df_58_ptc_flat = pandas_lowercase_all_strings(df_58_ptc_flat)"
   ]
  },
  {
   "cell_type": "markdown",
   "metadata": {},
   "source": [
    "### Load First PTC Twiss"
   ]
  },
  {
   "cell_type": "code",
   "execution_count": 10,
   "metadata": {},
   "outputs": [],
   "source": [
    "df_52_ptc_1 = tfs.read('MADX_5_02_00/PTC_Twiss/1.ptc')\n",
    "df_52_ptc_1 = pandas_lowercase_all_strings(df_52_ptc_1)"
   ]
  },
  {
   "cell_type": "code",
   "execution_count": null,
   "metadata": {},
   "outputs": [],
   "source": [
    "df_56_ptc_1 = tfs.read('MADX_5_06_01/PTC_Twiss/1.ptc')\n",
    "df_56_ptc_1 = pandas_lowercase_all_strings(df_56_ptc_1)"
   ]
  },
  {
   "cell_type": "code",
   "execution_count": null,
   "metadata": {},
   "outputs": [],
   "source": [
    "df_58_ptc_1 = tfs.read('MADX_5_08_01/PTC_Twiss/1.ptc')\n",
    "df_58_ptc_1 = pandas_lowercase_all_strings(df_58_ptc_1)"
   ]
  },
  {
   "cell_type": "markdown",
   "metadata": {},
   "source": [
    "### Load First MAD-X Twiss"
   ]
  },
  {
   "cell_type": "code",
   "execution_count": 10,
   "metadata": {},
   "outputs": [],
   "source": [
    "df_52_madx_1 = tfs.read('MADX_5_02_00/MADX_Twiss/1.tfs')\n",
    "df_52_madx_1 = pandas_lowercase_all_strings(df_52_madx_1)"
   ]
  },
  {
   "cell_type": "code",
   "execution_count": null,
   "metadata": {},
   "outputs": [],
   "source": [
    "df_56_madx_1 = tfs.read('MADX_5_06_01/MADX_Twiss/1.tfs')\n",
    "df_56_madx_1 = pandas_lowercase_all_strings(df_56_madx_1)"
   ]
  },
  {
   "cell_type": "code",
   "execution_count": null,
   "metadata": {},
   "outputs": [],
   "source": [
    "df_58_madx_1 = tfs.read('MADX_5_08_01/MADX_Twiss/1.tfs')\n",
    "df_58_madx_1 = pandas_lowercase_all_strings(df_58_madx_1)"
   ]
  },
  {
   "cell_type": "markdown",
   "metadata": {},
   "source": [
    "#### Template Plot "
   ]
  },
  {
   "cell_type": "code",
   "execution_count": null,
   "metadata": {},
   "outputs": [],
   "source": [
    "fig1 = plt.figure(facecolor='w', edgecolor='k', figsize=[8, 10])\n",
    "gs = fig1.add_gridspec(ncols=1,nrows=5, height_ratios=[1,1,1,1,1])\n",
    "gs.update(wspace=0.025, hspace=0.)\n",
    "\n",
    "ax1 = fig1.add_subplot(gs[0,0])\n",
    "ax2 = fig1.add_subplot(gs[1,0], sharex=ax1)\n",
    "ax3 = fig1.add_subplot(gs[2,0], sharex=ax1)\n",
    "ax4 = fig1.add_subplot(gs[3,0], sharex=ax1)\n",
    "ax5 = fig1.add_subplot(gs[4,0], sharex=ax1)\n",
    "\n",
    "kicker_plot(ax1, (save_folder+'twiss_0.tfs'), horizontal=False, start_element=None, limits=None, ptc_twiss=False)\n",
    "kicker_plot_cf(ax2, (save_folder+'twiss_0.tfs'), (save_folder+'twiss_2.tfs'), horizontal=False, start_element=None, limits=None, ptc_twiss=False)    \n",
    "kicker_plot_cf(ax3, (save_folder+'twiss_0.tfs'), (save_folder+'twiss_3.tfs'), horizontal=False, start_element=None, limits=None, ptc_twiss=False)    \n",
    "kicker_plot_cf(ax4, (save_folder+'twiss_0.tfs'), (save_folder+'twiss_4.tfs'), horizontal=False, start_element=None, limits=None, ptc_twiss=False)    \n",
    "kicker_plot_cf(ax5, (save_folder+'twiss_0.tfs'), (save_folder+'twiss_5.tfs'), horizontal=False, start_element=None, limits=None, ptc_twiss=False)    \n",
    "\n",
    "ylims=[-20,20]\n",
    "\n",
    "ax1_1 = ax1.twinx()\n",
    "co_meas_plot(ax1_1, (save_folder+'twiss_0.tfs'), ('Processed_Measurements/2013_v_fmon.dat'), horizontal=False,monitor_header='Monitor',filetype='BPM', time='1', ylims=ylims)\n",
    "\n",
    "ax2_1 = ax2.twinx()\n",
    "co_meas_plot(ax2_1, (save_folder+'twiss_2.tfs'), input_file, horizontal=False,monitor_header='Monitor',filetype='BPM', time='1', ylims=ylims)\n",
    "\n",
    "ax3_1 = ax3.twinx()\n",
    "co_meas_plot(ax3_1, (save_folder+'twiss_3.tfs'), input_file, horizontal=False,monitor_header='Monitor',filetype='BPM', time='1', ylims=ylims)\n",
    "\n",
    "ax4_1 = ax4.twinx()\n",
    "co_meas_plot(ax4_1, (save_folder+'twiss_4.tfs'), input_file, horizontal=False,monitor_header='Monitor',filetype='BPM', time='1', ylims=ylims)\n",
    "\n",
    "ax5_1 = ax5.twinx()\n",
    "co_meas_plot(ax5_1, (save_folder+'twiss_5.tfs'), input_file, horizontal=False,monitor_header='Monitor',filetype='BPM', time='1', ylims=ylims)\n",
    "\n",
    "ax5.set_xlabel('s [m]');\n",
    "\n",
    "save_file = save_folder + 'Kick_Comparison_2022_V_FMon.png'\n",
    "plt.savefig(save_file, bbox_inches='tight')"
   ]
  }
 ],
 "metadata": {
  "kernelspec": {
   "display_name": "Python 3",
   "language": "python",
   "name": "python3"
  },
  "language_info": {
   "codemirror_mode": {
    "name": "ipython",
    "version": 3
   },
   "file_extension": ".py",
   "mimetype": "text/x-python",
   "name": "python",
   "nbconvert_exporter": "python",
   "pygments_lexer": "ipython3",
   "version": "3.10.4"
  }
 },
 "nbformat": 4,
 "nbformat_minor": 4
}

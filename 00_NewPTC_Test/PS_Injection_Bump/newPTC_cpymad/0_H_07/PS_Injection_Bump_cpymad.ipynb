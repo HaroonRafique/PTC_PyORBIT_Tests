{
 "cells": [
  {
   "cell_type": "markdown",
   "metadata": {},
   "source": [
    "# PS Injection Bump using CPYMAD"
   ]
  },
  {
   "cell_type": "markdown",
   "metadata": {},
   "source": [
    "TODO:\n",
    "- [x] Load lattice files\n",
    "- [x] Use flags for selection \n",
    "- [ ] merge flags and parameters with pyORBIT simulation parameters\n",
    "- [x] Check start of lattice, tunes etc\n",
    "- [ ] Implement all macros etc\n",
    "- [ ] Save initial PTC twiss (?) for initial beam distribution matching\n",
    "- [ ] Convert to .py and run\n",
    "- [ ] Add necessary includes to virtual environment (pip install cpymad, tfs)\n",
    "- [ ] Move scripts to PyORBIT simulation script"
   ]
  },
  {
   "cell_type": "markdown",
   "metadata": {},
   "source": [
    "#### Regular imports"
   ]
  },
  {
   "cell_type": "code",
   "execution_count": 1,
   "metadata": {},
   "outputs": [],
   "source": [
    "import os\n",
    "import numpy as np\n",
    "import pandas as pnd\n",
    "\n",
    "import matplotlib\n",
    "import matplotlib.cm as cm\n",
    "import matplotlib.pyplot as plt\n",
    "from matplotlib.lines import Line2D\n",
    "import matplotlib.gridspec as gridspec\n",
    "from matplotlib.patches import Patch, Rectangle"
   ]
  },
  {
   "cell_type": "markdown",
   "metadata": {},
   "source": [
    "### Import MADX from CPYMAD"
   ]
  },
  {
   "cell_type": "markdown",
   "metadata": {},
   "source": [
    "**cpymad is a Cython binding to MAD-X for giving full control and access to a MAD-X interpreter in python.**\n",
    "https://pypi.org/project/cpymad/\n",
    "\n",
    "Installed (on linux) like:\n",
    "\n",
    "`pip install cpymad`  or  `pip3 install cpymad`"
   ]
  },
  {
   "cell_type": "code",
   "execution_count": 2,
   "metadata": {},
   "outputs": [],
   "source": [
    "from cpymad.madx import Madx\n",
    "\n",
    "# Python 3 version of the metaclass by the OMC team: pip install tfs-pandas\n",
    "import tfs"
   ]
  },
  {
   "cell_type": "markdown",
   "metadata": {},
   "source": [
    "#### Standard matplotlib plot parameters"
   ]
  },
  {
   "cell_type": "code",
   "execution_count": 3,
   "metadata": {},
   "outputs": [],
   "source": [
    "plt.rcParams['figure.figsize'] = [8.0, 5.0]\n",
    "plt.rcParams['figure.dpi'] = 100\n",
    "plt.rcParams['savefig.dpi'] = 100\n",
    "\n",
    "plt.rcParams['axes.titlesize'] = 14\n",
    "plt.rcParams['axes.labelsize'] = 14\n",
    "\n",
    "plt.rcParams['xtick.labelsize'] = 10\n",
    "plt.rcParams['ytick.labelsize'] = 10\n",
    "\n",
    "plt.rcParams['font.size'] = 10\n",
    "plt.rcParams['legend.fontsize'] = 8\n",
    "\n",
    "plt.rcParams['lines.linewidth'] = 1.5\n",
    "plt.rcParams['lines.markersize'] = 5"
   ]
  },
  {
   "cell_type": "markdown",
   "metadata": {},
   "source": [
    "#### Functions"
   ]
  },
  {
   "cell_type": "code",
   "execution_count": 4,
   "metadata": {},
   "outputs": [],
   "source": [
    "def make_directory(path):\n",
    "    if os.path.isdir(path):\n",
    "        print (\"Directory %s already exists\" % path)  \n",
    "    else:\n",
    "        try:\n",
    "            os.mkdir(path)\n",
    "        except OSError:\n",
    "            print (\"Creation of the directory %s failed\" % path)\n",
    "        else:\n",
    "            print (\"Successfully created the directory %s\" % path)  "
   ]
  },
  {
   "cell_type": "code",
   "execution_count": 5,
   "metadata": {},
   "outputs": [],
   "source": [
    "def calculate_beta_rel(gamma):\n",
    "        return np.sqrt(1-1/gamma**2)"
   ]
  },
  {
   "cell_type": "markdown",
   "metadata": {},
   "source": [
    "Test Alex Huschauer's plotting function and modify as required. Taken from https://gitlab.cern.ch/acc-models/acc-models-ps/-/blob/2021/_scripts/web/webtools.py"
   ]
  },
  {
   "cell_type": "code",
   "execution_count": 6,
   "metadata": {},
   "outputs": [],
   "source": [
    "def plot_lattice_elements(ax, twiss_in, suppress_x=False):\n",
    "    # Adapted from Alex Huschauer's (CERN ABP) webtools found at:\n",
    "    # https://gitlab.cern.ch/acc-models/acc-models-ps/-/tree/2021/_scripts/web\n",
    "    \n",
    "    # Set plot limits\n",
    "    ax.set_ylim(-1.5,1.5)\n",
    "    \n",
    "    # Suppress ticks on y-axis\n",
    "    #ax.set_yticks([])\n",
    "    #ax.set_yticklabels([])\n",
    "    ax.tick_params(axis='y', which='both', left=False, right=False, labelleft=False)\n",
    "        \n",
    "    if suppress_x:\n",
    "        ax.tick_params(axis='x', which='both', bottom=False, top=False, labelbottom=False)\n",
    "        #ax.set_xticks([])\n",
    "        #ax.set_xticklabels([])\n",
    "\n",
    "    # Extract Twiss Header\n",
    "    twiss = tfs.read(twiss_in)\n",
    "    twissHeader = dict(twiss.headers)\n",
    "    print(twissHeader['SEQUENCE'])\n",
    "    # Positions and lengths of elements\n",
    "    pos = twiss.S.values - twiss.L.values/2\n",
    "    lengths = twiss.L.values\n",
    "    total_length = (pos[-1]+lengths[-1])\n",
    "    print('Full length of accelerator lattice = ', total_length, 'm')\n",
    "    \n",
    "    # modify lengths in order to plot zero-length elements\n",
    "    lengths[np.where(lengths == 0)[0]] += 0.001\n",
    "    \n",
    "    # Plot line through centre\n",
    "    ax.plot([0, total_length], [0., 0.], color='k', linestyle='-', linewidth=1)\n",
    "    \n",
    "    # Markers - black 0.1m centred lines    \n",
    "    idx = np.array([idx for idx, elem in enumerate(twiss.KEYWORD.values) if 'MARKER' in elem])\n",
    "    for i in idx:\n",
    "        ax.add_patch(Rectangle((pos[i], -0.5), width = 0.1, height = 1., angle=0.0, ec='k', fc='k', lw=0.0))\n",
    "    \n",
    "    # BENDS - red centred rectangles   \n",
    "    idx = np.array([idx for idx, elem in enumerate(twiss.KEYWORD.values) if 'BEND' in elem])\n",
    "    for i in idx:\n",
    "        ax.add_patch(Rectangle((pos[i], -0.5), width = lengths[i], height = 1., angle=0.0, ec='k', fc='r', lw=0.0))\n",
    "    \n",
    "    # Kickers - cyan centred rectangles \n",
    "    idx = np.array([idx for idx, elem in enumerate(twiss.KEYWORD.values) if 'HKICKER' in elem])\n",
    "    for i in idx:\n",
    "        ax.add_patch(Rectangle((pos[i], -0.5), width = lengths[i], height = 1., angle=0.0, ec='k', fc='c', lw=0.0))\n",
    "    idx = np.array([idx for idx, elem in enumerate(twiss.KEYWORD.values) if 'VKICKER' in elem])       \n",
    "    for i in idx:\n",
    "        ax.add_patch(Rectangle((pos[i], -0.5), width = lengths[i], height = 1., angle=0.0, ec='k', fc='c', lw=0.0))\n",
    "              \n",
    "    # QUADRUPOLES - blue offset rectangles indicatinf Focussing or Defocussing\n",
    "    idx = np.array([idx for idx, elem in enumerate(twiss.KEYWORD.values) if 'QUADRUPOLE' in elem])\n",
    "    name = np.array(twiss.NAME.values)[idx]\n",
    "    if (twissHeader['SEQUENCE'] == 'SYNCHROTRON'):\n",
    "        idx_1 = idx[np.array([i for i, n in enumerate(name) if 'QD' in n])]\n",
    "        idx_2 = idx[np.array([i for i, n in enumerate(name) if 'QF' in n])]\n",
    "    offset = [-0.5, 0.5]\n",
    "    for i in idx_1:\n",
    "        ax.add_patch(Rectangle((pos[i], (-0.5 + offset[0])), width = lengths[i], height = 1., angle=0.0, ec='k', fc='b', lw=0.0))\n",
    "    for i in idx_2:\n",
    "        ax.add_patch(Rectangle((pos[i], (-0.5 + offset[1])), width = lengths[i], height = 1., angle=0.0, ec='k', fc='b', lw=0.0))\n",
    "    "
   ]
  },
  {
   "cell_type": "markdown",
   "metadata": {},
   "source": [
    "#### Create Plot folder"
   ]
  },
  {
   "cell_type": "code",
   "execution_count": 7,
   "metadata": {},
   "outputs": [
    {
     "name": "stdout",
     "output_type": "stream",
     "text": [
      "Directory cpymad_plots/ already exists\n"
     ]
    }
   ],
   "source": [
    "save_folder = 'cpymad_plots/'\n",
    "make_directory(save_folder)\n",
    "#legend_label = 'Case'\n",
    "main_label = 'PS'"
   ]
  },
  {
   "cell_type": "code",
   "execution_count": null,
   "metadata": {},
   "outputs": [],
   "source": [
    "os.chdir(\"PyORBIT\")\n",
    "os.getcwd()"
   ]
  },
  {
   "cell_type": "code",
   "execution_count": 28,
   "metadata": {},
   "outputs": [
    {
     "name": "stdout",
     "output_type": "stream",
     "text": [
      "simulation_parameters: space charge =  0\n",
      "simulation_parameters: transverse_plane =  H\n",
      "simulation_parameters: scan_tune =  07\n",
      "beta =  0.9159915293877255\n"
     ]
    }
   ],
   "source": [
    "os.getcwd()\n",
    "from simulation_parameters import parameters as p\n",
    "from simulation_parameters import switches as s"
   ]
  },
  {
   "cell_type": "code",
   "execution_count": 29,
   "metadata": {},
   "outputs": [
    {
     "data": {
      "text/plain": [
       "'/home/HR/Repositories/PTC_PyORBIT_Tests/00_NewPTC_Test/PS_Injection_Bump/newPTC_cpymad/0_H_07'"
      ]
     },
     "execution_count": 29,
     "metadata": {},
     "output_type": "execute_result"
    }
   ],
   "source": [
    "os.chdir(\"../\")\n",
    "os.getcwd()"
   ]
  },
  {
   "cell_type": "code",
   "execution_count": 31,
   "metadata": {},
   "outputs": [
    {
     "data": {
      "text/plain": [
       "{'tunex': '6.07',\n",
       " 'tuney': '6.24',\n",
       " 'transverse_plane_flag': 1,\n",
       " 'lattice_start': 'PR.BWSH65',\n",
       " 'n_macroparticles': 50000,\n",
       " 'tomo_file': '../../../00_Longitudinal_Distribution/PyORBIT_Tomo_file_MD4224_HB.mat',\n",
       " 'LatticeFile': '../PTC_Twiss/1.ptc',\n",
       " 'input_distn': '../../../01_Generate_Initial_Distribution/500000/0_H_21/bunch_output/mainbunch_-000001.mat',\n",
       " 'gamma': 2.49253731343,\n",
       " 'intensity': 725000000000.0,\n",
       " 'bunch_length': 1.4e-07,\n",
       " 'blength': 1.4e-07,\n",
       " 'epsn_x': 1e-06,\n",
       " 'epsn_y': 1e-06,\n",
       " 'dpp_rms': 0.00087,\n",
       " 'LongitudinalJohoParameter': 1.2,\n",
       " 'LongitudinalCut': 2.4,\n",
       " 'TransverseCut': 5,\n",
       " 'rf_voltage': 0.0212,\n",
       " 'circumference': 628.3185307179587,\n",
       " 'phi_s': 0,\n",
       " 'macrosize': 14500000.0,\n",
       " 'beta': 0.9159915293877255,\n",
       " 'sig_z': 9.611257323581393,\n",
       " 'turns_max': 2200,\n",
       " 'turns_print': [-1,\n",
       "  1,\n",
       "  2,\n",
       "  3,\n",
       "  4,\n",
       "  5,\n",
       "  6,\n",
       "  7,\n",
       "  8,\n",
       "  9,\n",
       "  10,\n",
       "  11,\n",
       "  12,\n",
       "  13,\n",
       "  14,\n",
       "  15,\n",
       "  16,\n",
       "  17,\n",
       "  18,\n",
       "  19,\n",
       "  20,\n",
       "  21,\n",
       "  22,\n",
       "  23,\n",
       "  24,\n",
       "  25,\n",
       "  26,\n",
       "  27,\n",
       "  28,\n",
       "  29,\n",
       "  30,\n",
       "  31,\n",
       "  32,\n",
       "  33,\n",
       "  34,\n",
       "  35,\n",
       "  36,\n",
       "  37,\n",
       "  38,\n",
       "  39,\n",
       "  40,\n",
       "  41,\n",
       "  42,\n",
       "  43,\n",
       "  44,\n",
       "  45,\n",
       "  46,\n",
       "  47,\n",
       "  48,\n",
       "  49,\n",
       "  49,\n",
       "  50,\n",
       "  60,\n",
       "  70,\n",
       "  80,\n",
       "  90,\n",
       "  99,\n",
       "  149,\n",
       "  199,\n",
       "  249,\n",
       "  299,\n",
       "  349,\n",
       "  399,\n",
       "  449,\n",
       "  499,\n",
       "  549,\n",
       "  599,\n",
       "  649,\n",
       "  699,\n",
       "  749,\n",
       "  799,\n",
       "  849,\n",
       "  874,\n",
       "  899,\n",
       "  949,\n",
       "  999,\n",
       "  1049,\n",
       "  1099,\n",
       "  1149,\n",
       "  1199,\n",
       "  1249,\n",
       "  1299,\n",
       "  1349,\n",
       "  1399,\n",
       "  1449,\n",
       "  1499,\n",
       "  1549,\n",
       "  1599,\n",
       "  1649,\n",
       "  1699,\n",
       "  1749,\n",
       "  1799,\n",
       "  1849,\n",
       "  1899,\n",
       "  1949,\n",
       "  1999,\n",
       "  2049,\n",
       "  2099,\n",
       "  2149,\n",
       "  2185,\n",
       "  2199],\n",
       " 'turns_update': [-1,\n",
       "  1,\n",
       "  2,\n",
       "  3,\n",
       "  4,\n",
       "  5,\n",
       "  6,\n",
       "  7,\n",
       "  8,\n",
       "  9,\n",
       "  10,\n",
       "  11,\n",
       "  12,\n",
       "  13,\n",
       "  14,\n",
       "  15,\n",
       "  16,\n",
       "  17,\n",
       "  18,\n",
       "  19,\n",
       "  20,\n",
       "  21,\n",
       "  22,\n",
       "  23,\n",
       "  24,\n",
       "  25,\n",
       "  26,\n",
       "  27,\n",
       "  28,\n",
       "  29,\n",
       "  30,\n",
       "  31,\n",
       "  32,\n",
       "  33,\n",
       "  34,\n",
       "  35,\n",
       "  36,\n",
       "  37,\n",
       "  38,\n",
       "  39,\n",
       "  40,\n",
       "  41,\n",
       "  42,\n",
       "  43,\n",
       "  44,\n",
       "  45,\n",
       "  46,\n",
       "  47,\n",
       "  48,\n",
       "  49,\n",
       "  49,\n",
       "  50,\n",
       "  60,\n",
       "  70,\n",
       "  80,\n",
       "  90,\n",
       "  99,\n",
       "  149,\n",
       "  199,\n",
       "  249,\n",
       "  299,\n",
       "  349,\n",
       "  399,\n",
       "  449,\n",
       "  499,\n",
       "  549,\n",
       "  599,\n",
       "  649,\n",
       "  699,\n",
       "  749,\n",
       "  799,\n",
       "  849,\n",
       "  874,\n",
       "  899,\n",
       "  949,\n",
       "  999,\n",
       "  1049,\n",
       "  1099,\n",
       "  1149,\n",
       "  1199,\n",
       "  1249,\n",
       "  1299,\n",
       "  1349,\n",
       "  1399,\n",
       "  1449,\n",
       "  1499,\n",
       "  1549,\n",
       "  1599,\n",
       "  1649,\n",
       "  1699,\n",
       "  1749,\n",
       "  1799,\n",
       "  1849,\n",
       "  1899,\n",
       "  1949,\n",
       "  1999,\n",
       "  2049,\n",
       "  2099,\n",
       "  2149,\n",
       "  2185,\n",
       "  2199]}"
      ]
     },
     "execution_count": 31,
     "metadata": {},
     "output_type": "execute_result"
    }
   ],
   "source": [
    "p"
   ]
  },
  {
   "cell_type": "code",
   "execution_count": 32,
   "metadata": {},
   "outputs": [
    {
     "data": {
      "text/plain": [
       "{'InjectionBump': True,\n",
       " 'CreateDistn': True,\n",
       " 'Update_Twiss': True,\n",
       " 'GridSizeX': 64,\n",
       " 'GridSizeY': 64,\n",
       " 'GridSizeZ': 32,\n",
       " 'Space_Charge': False}"
      ]
     },
     "execution_count": 32,
     "metadata": {},
     "output_type": "execute_result"
    }
   ],
   "source": [
    "s"
   ]
  },
  {
   "cell_type": "code",
   "execution_count": null,
   "metadata": {},
   "outputs": [],
   "source": []
  },
  {
   "cell_type": "code",
   "execution_count": null,
   "metadata": {},
   "outputs": [],
   "source": []
  },
  {
   "cell_type": "markdown",
   "metadata": {},
   "source": [
    "## Flags"
   ]
  },
  {
   "cell_type": "code",
   "execution_count": null,
   "metadata": {},
   "outputs": [],
   "source": [
    "LIU = False\n",
    "BCMS = True\n",
    "start_with_marker = False\n",
    "match_tunes = True\n",
    "match_chroma = False\n",
    "injection_bump = True\n",
    "vertical_scan = False"
   ]
  },
  {
   "cell_type": "markdown",
   "metadata": {},
   "source": [
    "# Start MADX run"
   ]
  },
  {
   "cell_type": "code",
   "execution_count": null,
   "metadata": {},
   "outputs": [],
   "source": [
    "madx = Madx()\n",
    "madx.option(echo=True)\n",
    "\n",
    "madx.call(file='PS_Lattice/ps_mu.seq')          # Main sequence\n",
    "if BCMS:\n",
    "    madx.call(file='PS_Lattice/ps_ss_h9.seq')   # BCMS Harmonic 9\n",
    "else:\n",
    "    madx.call(file='PS_Lattice/ps_ss_h7.seq')   # Standard Harmonic 7\n",
    "\n",
    "madx.call(file='PS_Lattice/ps.str')             # Strength file\n",
    "madx.call(file='PS_Lattice/macros.ptc')         # User defined macros\n",
    "madx.call(file='PS_Lattice/tunes.str')          # Tunes and initial position"
   ]
  },
  {
   "cell_type": "markdown",
   "metadata": {},
   "source": [
    "### Beam"
   ]
  },
  {
   "cell_type": "code",
   "execution_count": null,
   "metadata": {},
   "outputs": [],
   "source": [
    "if LIU:\n",
    "    madx.input('beam, particle=proton, pc=2.7844;')\n",
    "else:\n",
    "    madx.input('beam, particle=proton, pc=2.14;')\n",
    "    \n",
    "madx.input('BRHO      := BEAM->PC * 3.3356;')\n",
    "    "
   ]
  },
  {
   "cell_type": "markdown",
   "metadata": {},
   "source": [
    "### Flatten and reduce the lattice (remove excess elements to reduce space charge simulation time)"
   ]
  },
  {
   "cell_type": "code",
   "execution_count": null,
   "metadata": {},
   "outputs": [],
   "source": [
    "flatten_and_reduce ='''\n",
    "seqedit,sequence = PS;\n",
    "\tflatten;\n",
    "endedit;\n",
    "\n",
    "seqedit,sequence = PS;\n",
    "\tcall, file = 'PS_Lattice/remove_elements.seq';\n",
    "\tremove, element=SELECTED;\n",
    "endedit;\n",
    "'''\n",
    "madx.input(lattice_start)"
   ]
  },
  {
   "cell_type": "markdown",
   "metadata": {},
   "source": [
    "### Set lattice start position"
   ]
  },
  {
   "cell_type": "code",
   "execution_count": null,
   "metadata": {},
   "outputs": [],
   "source": [
    "start_at_vertical = '''\n",
    "seqedit, sequence=PS;\n",
    "\tflatten;\n",
    "\tcycle , start=PR.BWSV64;\n",
    "\tflatten;\n",
    "endedit;\n",
    "'''\n",
    "start_at_horizontal = '''\n",
    "seqedit, sequence=PS;\n",
    "\tflatten;\n",
    "\tcycle , start=PR.BWSH65;\n",
    "\tflatten;\n",
    "endedit;\n",
    "'''\n",
    "\n",
    "if vertical_scan:\n",
    "    madx.input(start_at_vertical)    \n",
    "else:\n",
    "    madx.input(start_at_horizontal)\n",
    "    "
   ]
  },
  {
   "cell_type": "code",
   "execution_count": null,
   "metadata": {},
   "outputs": [],
   "source": [
    "lattice_start ='''\n",
    "seqedit,sequence = PS;\n",
    "\tflatten;\n",
    "endedit;\n",
    "\n",
    "seqedit,sequence = PS;\n",
    "\tcall, file = 'PS_Lattice/remove_elements.seq';\n",
    "\tremove, element=SELECTED;\n",
    "endedit;\n",
    "\n",
    "IF(lattice_start==0){\n",
    "seqedit, sequence=PS;\n",
    "\tflatten;\n",
    "\tcycle , start=PR.BWSV64;\n",
    "\tflatten;\n",
    "endedit;\n",
    "}\n",
    "ELSE{\n",
    "seqedit, sequence=PS;\n",
    "\tflatten;\n",
    "\tcycle , start=PR.BWSH65;\n",
    "\tflatten;\n",
    "endedit;\n",
    "}\n",
    "'''\n",
    "madx.input(lattice_start)"
   ]
  },
  {
   "cell_type": "markdown",
   "metadata": {},
   "source": [
    "Use this if PTC doesn't find a closed solution - replace MONITOR with MARKER"
   ]
  },
  {
   "cell_type": "code",
   "execution_count": null,
   "metadata": {},
   "outputs": [],
   "source": [
    "use_start_lattice_marker='''\n",
    "IF(start_lattice_marker==1){\n",
    "\tSTART_LATTICE: MARKER;\n",
    "\n",
    "\tseqedit,sequence = PS;\n",
    "\t\tflatten;\n",
    "\t\t!REPLACE, ELEMENT=PR.BWSH65, BY=START_LATTICE;\n",
    "\t\t!REPLACE, ELEMENT=PR.BWSV64, BY=START_LATTICE;\n",
    "\t\tREPLACE, ELEMENT=lattice_start, BY=START_LATTICE;\n",
    "\t\tcycle , start = START_LATTICE;\n",
    "\tendedit;\n",
    "}\n",
    "'''\n",
    "if start_with_marker:\n",
    "    madx.input(use_start_lattice_marker)    "
   ]
  },
  {
   "cell_type": "markdown",
   "metadata": {},
   "source": [
    "Perform the initial PTC twiss before matching and including errors etc\n",
    "NOTE: This code block contains the call:\n",
    "       $$ use, sequence=PS; $$\n",
    "This should not be called again if errors are implemented or they will be erased"
   ]
  },
  {
   "cell_type": "code",
   "execution_count": null,
   "metadata": {},
   "outputs": [],
   "source": [
    "bare_machine_PTC_twiss=\n",
    "'''\n",
    "! PTC integration parameters\n",
    "\n",
    "propagation_method = 2; \n",
    "order_of_integrator = 6;\n",
    "\n",
    "! propagation_method 1: Drift-Kick-Drift\n",
    "! 2 = 2nd order, one kick per integration step, naive.\n",
    "! 4 = Ruth-Neri-Yoshida 4th order method, 3 kicks per integration step.\n",
    "! 6 = Yoshida 6th order method, 7 kicks per integration step.\n",
    "\n",
    "! propagation_method 2: Matrix-Kick-Matrix\n",
    "! 2 = Euler-like Matrix-Kick-Matrix\n",
    "! 4 = Simpson-like (1/6)K-M-(2/3)K-M-(1/6)K\n",
    "! 6 = Bode-like (7/90)K-M-(32/90)K-M-(12/90)K-M-(32/90)K-M-(7/90)K\n",
    "\n",
    "! exact = true ensures SBENDs orbit is correct\n",
    "! avoids quadrupole feed-down effects leading to closed orbit distortions\n",
    "exact_flag = true;\n",
    "\n",
    "! time=true: every derivative wrt dp/p needs to be multiplied by the relativistic beta DQ1, DISP1,...) required for flat file generation!\n",
    "! time=false: forget about beta and take the value as it is - use for PTC_Twiss \n",
    "time_flag = false;\n",
    "\n",
    "integration_steps_per_element = 5; ! 3;\n",
    "map_order = 5;\n",
    "\n",
    "! Only call this once or ther errors are erased\n",
    "use, sequence=PS;\n",
    "\n",
    "ptc_create_universe;\n",
    "ptc_create_layout, time=false, model=propagation_method, method=order_of_integrator, nst=integration_steps_per_element, exact=true;\n",
    "select, flag=ptc_twiss, clear; \n",
    "select, flag=ptc_twiss, column=name, s, betx, bety, disp1, disp3, x, px, y, py;\n",
    "ptc_twiss, icase=5, no=map_order, closed_orbit, file=optimised_bare_simplified.tfs, table=ptc_twiss;\n",
    "ptc_end;\n",
    "'''\n",
    "madx.input(bare_machine_PTC_twiss)    "
   ]
  },
  {
   "cell_type": "code",
   "execution_count": null,
   "metadata": {},
   "outputs": [],
   "source": [
    "matchtunes = '''\n",
    "EXEC, match_Tunes(use_pfw, tune_x, tune_y);\n",
    "value, tune_x, tune_y, Qxp, Qyp; \n",
    "'''\n",
    "if match_tunes:\n",
    "    madx.input(matchtunes)    "
   ]
  },
  {
   "cell_type": "code",
   "execution_count": null,
   "metadata": {},
   "outputs": [],
   "source": [
    "matchchroma = '''\n",
    "EXEC, match_Chroma_PFW(Qxp, Qyp, Qxp2, Qyp2);\n",
    "value, tune_x, tune_y, Qxp, Qyp; \n",
    "'''\n",
    "if match_chroma:\n",
    "    madx.input(matchchroma)"
   ]
  },
  {
   "cell_type": "code",
   "execution_count": null,
   "metadata": {},
   "outputs": [],
   "source": [
    "inj_bump='''\n",
    "create, table=mytable, column=BSEXT_t, BSStren, BSW40, BSW42, BSW43, BSW44, xmax, xcomin0, xcomax0, Qx, Qy, Qx0, Qy0, K2_S40, K2_S42, K2_S43, K2_S44;\n",
    "EXEC, Apply_Injection_Bump();\n",
    "'''\n",
    "if injection_bump:\n",
    "    madx.input(matchchroma)    "
   ]
  },
  {
   "cell_type": "markdown",
   "metadata": {},
   "source": [
    "Next we use the PTC script resplit.ptc - this is used to split defined elements (dipole, quadrupole, sextupole families etc) in order to introduce space charge nodes inside their length. See the file for further information. Then the flat file is generated and saved."
   ]
  },
  {
   "cell_type": "code",
   "execution_count": null,
   "metadata": {},
   "outputs": [],
   "source": [
    "resplit='''\n",
    "use, sequence=PS;\n",
    "ptc_create_universe;\n",
    "ptc_create_layout,time=true, model=propagation_method, exact=true, method=order_of_integrator, nst=integration_steps_per_element;\n",
    "ptc_script, file=\"./PTC/resplit.ptc\";\n",
    "ptc_script, file=\"./PTC/print_flat_file.ptc\";\n",
    "select, flag=ptc_twiss, clear; \n",
    "select, flag=ptc_twiss, column=name, s, betx, bety, alfx, alfy, disp1, disp2, disp3, disp4, mu1, mu2, x, px, y, py;\n",
    "ptc_twiss, icase=5, no=map_order, deltap_dependency, closed_orbit, file=optimised_flat_file.tfs, table=ptc_twiss;\n",
    "ptc_end;'''\n",
    "madx.input(resplit)"
   ]
  },
  {
   "cell_type": "code",
   "execution_count": null,
   "metadata": {},
   "outputs": [],
   "source": [
    "madx_plot='''\n",
    "setplot, font=4, xsize=34, ysize=25;\n",
    "\n",
    "plot, table=ptc_twiss, haxis=s, vaxis=betx, hmin=0, hmax=630, vmin=10, vmax=30, title='Horizontal Beta', colour=2, NOLINE=False, NOVERSION=False;\n",
    "plot, table=ptc_twiss, haxis=s, vaxis=bety, hmin=0, hmax=630, vmin=10, vmax=30, title='Vertical Beta', colour=4, NOLINE=False, NOVERSION=False;\n",
    "plot, table=ptc_twiss, haxis=s, vaxis=disp1, hmin=0, hmax=630, vmin=1.0 vmax=5.5, title='Horizontal Dispersion', colour=2, NOLINE=False, NOVERSION=False;\n",
    "plot, table=ptc_twiss, haxis=s, vaxis=disp2, hmin=0, hmax=630, vmin=-0.6, vmax=-0.6,  title='Horizontal Dispersion Prime', colour=2, NOLINE=False, NOVERSION=False;\n",
    "plot, table=ptc_twiss, haxis=s, vaxis=disp3, hmin=0, hmax=630, title='Vertical Dispersion', colour=4, NOLINE=False, NOVERSION=False;\n",
    "plot, table=ptc_twiss, haxis=s, vaxis=disp4, hmin=0, hmax=630, title='Vertical Dispersion Prime', colour=4, NOLINE=False, NOVERSION=False;\n",
    "plot, table=ptc_twiss, haxis=s, vaxis=x, hmin=0, hmax=630, title='x', colour=2, NOLINE=False, NOVERSION=False;\n",
    "plot, table=ptc_twiss, haxis=s, vaxis=y, hmin=0, hmax=630, title='y', colour=4, NOLINE=False, NOVERSION=False;\n",
    "plot, table=ptc_twiss, haxis=s, vaxis=px, hmin=0, hmax=630, title='px', colour=2, NOLINE=False, NOVERSION=False;\n",
    "plot, table=ptc_twiss, haxis=s, vaxis=py, hmin=0, hmax=630, title='py', colour=4, NOLINE=False, NOVERSION=False;\n",
    "\n",
    "value, kf, kd, pfwk1_f, pfwk1_d, pfwk2_f, pfwk2_d, pfwk3_f, pfwk3_d;\n",
    "value, tune_x, tune_y, Qxp, Qyp; \n",
    "'''\n",
    "madx.input(madx_plot)"
   ]
  },
  {
   "cell_type": "code",
   "execution_count": null,
   "metadata": {},
   "outputs": [],
   "source": []
  },
  {
   "cell_type": "code",
   "execution_count": null,
   "metadata": {},
   "outputs": [],
   "source": []
  },
  {
   "cell_type": "code",
   "execution_count": null,
   "metadata": {},
   "outputs": [],
   "source": []
  },
  {
   "cell_type": "code",
   "execution_count": null,
   "metadata": {},
   "outputs": [],
   "source": []
  },
  {
   "cell_type": "code",
   "execution_count": null,
   "metadata": {},
   "outputs": [],
   "source": [
    "madx_1 = Madx()\n",
    "madx_1.option(echo=True)\n",
    "\n",
    "madx_1.call(file='ISIS_Lattice/lattice.ele')\n",
    "madx_1.call(file='ISIS_Lattice/synchrotron.seq')"
   ]
  },
  {
   "cell_type": "code",
   "execution_count": null,
   "metadata": {},
   "outputs": [],
   "source": []
  },
  {
   "cell_type": "code",
   "execution_count": null,
   "metadata": {},
   "outputs": [],
   "source": [
    "madx_2 = Madx()\n",
    "madx_2.option(echo=True)\n",
    "\n",
    "madx_2.call(file='ISIS_Lattice/injection.beam')"
   ]
  },
  {
   "cell_type": "markdown",
   "metadata": {},
   "source": [
    "## Run whole script"
   ]
  },
  {
   "cell_type": "code",
   "execution_count": null,
   "metadata": {
    "scrolled": true
   },
   "outputs": [],
   "source": [
    "madx = Madx()\n",
    "madx.option(echo=False)\n",
    "madx.input('beam, particle = proton, energy = (0.070440002 + 0.938);')\n",
    "madx.call(file='ISIS_Lattice/run_injection.madx')      "
   ]
  },
  {
   "cell_type": "code",
   "execution_count": null,
   "metadata": {},
   "outputs": [],
   "source": [
    "madx.input('USE, SEQUENCE=synchrotron;')"
   ]
  },
  {
   "cell_type": "markdown",
   "metadata": {},
   "source": [
    "## MAD-X Twiss"
   ]
  },
  {
   "cell_type": "code",
   "execution_count": null,
   "metadata": {},
   "outputs": [],
   "source": [
    "madx.input('SELECT,flag=TWISS,COLUMN=keyword, name, s, betx, alfx, mux, bety, alfy, muy, x, px, y, py, t, pt, dx, dpx, dy, dpy, wx, phix, dmux, wy, phiy, dmuy, ddx, ddpx, ddy, ddpy, r11, r12, r21, r22, energy, l, angle, k0l, k0sl, k1l, k1sl, k2l, k2sl, k3l, k3sl, k4l, k4sl, k5l, k5sl, k6l, k6sl, k7l, k7sl, k8l, k8sl, k9l, k9sl, k10l, k10sl, ksi, hkick, vkick, tilt, e1, e2, h1, h2, hgap, fint, fintx, volt, lag, freq, harmon, slot_id, assembly_id, mech_sep, kmax, kmin, calib, polarity, alfa, beta11, beta12, beta13, beta21, beta22, beta23, beta31, beta32, beta33, alfa11, alfa12, alfa13, alfa21, alfa22, disp1, disp2, disp3, disp4')\n",
    "#madx.input('SELECT,flag=TWISS;')\n",
    "madx_twiss = madx.twiss(sequence='synchrotron', file='isis_twiss.tfs')"
   ]
  },
  {
   "cell_type": "markdown",
   "metadata": {},
   "source": [
    "## PTC Twiss"
   ]
  },
  {
   "cell_type": "code",
   "execution_count": null,
   "metadata": {},
   "outputs": [],
   "source": [
    "madx.input('ptc_create_universe')\n",
    "madx.input('ptc_create_layout, time=false,model=2, method=6, nst=5, exact=true')\n",
    "madx.input('ptc_twiss, closed_orbit, icase=56, no=4, slice_magnets')\n",
    "madx.input('ptc_end')"
   ]
  },
  {
   "cell_type": "code",
   "execution_count": null,
   "metadata": {},
   "outputs": [],
   "source": [
    "ptc_twiss_summary = madx.table['ptc_twiss_summary']\n",
    "for k in ptc_twiss_summary.keys():\n",
    "    if ptc_twiss_summary[k][0] > 0:\n",
    "        print(k + ' = ' + str(ptc_twiss_summary[k][0]))"
   ]
  },
  {
   "cell_type": "code",
   "execution_count": null,
   "metadata": {},
   "outputs": [],
   "source": [
    "ptc_twiss = madx.table['ptc_twiss']\n",
    "list(ptc_twiss)"
   ]
  },
  {
   "cell_type": "markdown",
   "metadata": {},
   "source": [
    "#### the twiss object now contains the full TFS table information for each element in the lattice\n",
    "The keywords available are:"
   ]
  },
  {
   "cell_type": "code",
   "execution_count": null,
   "metadata": {},
   "outputs": [],
   "source": [
    "list(madx_twiss)"
   ]
  },
  {
   "cell_type": "code",
   "execution_count": null,
   "metadata": {
    "scrolled": true
   },
   "outputs": [],
   "source": [
    "list(ptc_twiss)"
   ]
  },
  {
   "cell_type": "markdown",
   "metadata": {},
   "source": [
    "### Check output PTC Twiss TFS table to read relativistic gamma for plot normalisation"
   ]
  },
  {
   "cell_type": "code",
   "execution_count": null,
   "metadata": {},
   "outputs": [],
   "source": [
    "ptc_twiss_file = 'isis_twiss.tfs'\n",
    "\n",
    "ptc_twiss_read = tfs.read(ptc_twiss_file)\n",
    "ptc_twiss_read_Header = dict(ptc_twiss_read.headers)"
   ]
  },
  {
   "cell_type": "code",
   "execution_count": null,
   "metadata": {},
   "outputs": [],
   "source": [
    "gamma_rel = ptc_twiss_read_Header['GAMMA']\n",
    "beta_rel = calculate_beta_rel(gamma_rel)\n",
    "p_mass_GeV = 0.93827208816 #Proton mass GeV\n",
    "tot_energy = gamma_rel * p_mass_GeV\n",
    "kin_energy = tot_energy - p_mass_GeV\n",
    "momentum = ptc_twiss_read_Header['PC']\n",
    "\n",
    "print('Relativistic Gamma = ', round(gamma_rel,3))\n",
    "print('Relativistic Beta = ', round(beta_rel,3))\n",
    "print('Total Energy = ', round(tot_energy,4), 'GeV')\n",
    "print('Kinetic Energy = ', round(kin_energy*1E3,3), 'MeV')\n",
    "print('momentum = ', round(momentum,3), 'GeV/c')"
   ]
  },
  {
   "cell_type": "markdown",
   "metadata": {},
   "source": [
    "### Now we can plot the TWISS"
   ]
  },
  {
   "cell_type": "code",
   "execution_count": null,
   "metadata": {},
   "outputs": [],
   "source": [
    "case_label = 'Beta Functions'\n",
    "\n",
    "fig1 = plt.figure(facecolor='w', edgecolor='k')\n",
    "gs = fig1.add_gridspec(ncols=1,nrows=2, height_ratios=[1,4])\n",
    "gs.update(wspace=0.025, hspace=0.)\n",
    "\n",
    "ax1 = fig1.add_subplot(gs[1,0])\n",
    "ax2 = ax1.twinx()\n",
    "ax3 = fig1.add_subplot(gs[0,0], sharex=ax1)\n",
    "\n",
    "tit = main_label+ ' ' + case_label\n",
    "#ax1.set_title(tit);\n",
    "fig1.suptitle(tit);\n",
    "\n",
    "plot_lattice_elements(ax3,'isis_twiss.tfs',suppress_x=True)\n",
    "\n",
    "ax1.plot(madx_twiss.s, madx_twiss.betx, color='b', lw=0.5)\n",
    "ax1.plot(ptc_twiss.s, ptc_twiss.betx, color='b', ls=':')\n",
    "ax2.plot(madx_twiss.s, madx_twiss.bety, color='r', lw=0.5)\n",
    "ax2.plot(ptc_twiss.s, ptc_twiss.bety, color='r', ls=':')\n",
    "\n",
    "ax1.set_xlabel('S [m]')\n",
    "ax1.set_ylabel(r'$\\beta_x$ [m]', color='b')\n",
    "ax2.set_ylabel(r'$\\beta_y$ [m]', color='r')\n",
    "\n",
    "ax1.grid(which='both', ls=':', color='grey')\n",
    "ax3.grid(which='major', ls=':', color='grey')\n",
    "\n",
    "ax1.set_ylim(0,20)\n",
    "ax2.set_ylim(0,20)\n",
    "\n",
    "\n",
    "legend_elements = [Line2D([0], [0], color='k', lw=0.5, label='MADX Twiss'), Line2D([0], [0], color='k', ls=':', label='PTC Twiss')]\n",
    "\n",
    "ax1.legend(handles=legend_elements, loc=1)\n",
    "\n",
    "fig1.tight_layout()\n",
    "\n",
    "savename = save_folder + 'ISIS_I_Beta_Functions.png'\n",
    "plt.savefig(savename)"
   ]
  },
  {
   "cell_type": "code",
   "execution_count": null,
   "metadata": {},
   "outputs": [],
   "source": [
    "case_label = 'Beta Functions'\n",
    "\n",
    "fig1 = plt.figure(facecolor='w', edgecolor='k')\n",
    "gs = fig1.add_gridspec(ncols=1,nrows=2, height_ratios=[1,4])\n",
    "gs.update(wspace=0.025, hspace=0.)\n",
    "\n",
    "ax1 = fig1.add_subplot(gs[1,0])\n",
    "ax2 = ax1.twinx()\n",
    "ax3 = fig1.add_subplot(gs[0,0], sharex=ax1)\n",
    "\n",
    "tit = main_label+ ' ' + case_label\n",
    "#ax1.set_title(tit);\n",
    "fig1.suptitle(tit);\n",
    "\n",
    "plot_lattice_elements(ax3,'isis_twiss.tfs',suppress_x=True)\n",
    "\n",
    "ax1.plot(madx_twiss.s, madx_twiss.betx, color='b', lw=0.5)\n",
    "ax1.plot(ptc_twiss.s, ptc_twiss.betx, color='b', ls=':')\n",
    "ax2.plot(madx_twiss.s, madx_twiss.bety, color='r', lw=0.5)\n",
    "ax2.plot(ptc_twiss.s, ptc_twiss.bety, color='r', ls=':')\n",
    "\n",
    "ax1.set_xlabel('S [m]')\n",
    "ax1.set_ylabel(r'$\\beta_x$ [m]', color='b')\n",
    "ax2.set_ylabel(r'$\\beta_y$ [m]', color='r')\n",
    "\n",
    "ax1.grid(which='both', ls=':', color='grey')\n",
    "ax3.grid(which='major', ls=':', color='grey')\n",
    "\n",
    "ax1.set_ylim(0,20)\n",
    "ax2.set_ylim(0,20)\n",
    "ax1.set_xlim(0,16.3)\n",
    "\n",
    "\n",
    "legend_elements = [Line2D([0], [0], color='k', lw=0.5, label='MADX Twiss'), Line2D([0], [0], color='k', ls=':', label='PTC Twiss')]\n",
    "\n",
    "ax1.legend(handles=legend_elements, loc=1)\n",
    "\n",
    "fig1.tight_layout()\n",
    "\n",
    "savename = save_folder + 'ISIS_I_Beta_Functions_zoom.png'\n",
    "plt.savefig(savename)"
   ]
  },
  {
   "cell_type": "code",
   "execution_count": null,
   "metadata": {},
   "outputs": [],
   "source": [
    "case_label = 'Average Beta Functions'\n",
    "\n",
    "fig1 = plt.figure(facecolor='w', edgecolor='k')\n",
    "gs = fig1.add_gridspec(ncols=1,nrows=2, height_ratios=[1,4])\n",
    "gs.update(wspace=0.025, hspace=0.)\n",
    "\n",
    "ax1 = fig1.add_subplot(gs[1,0])\n",
    "#ax2 = ax1.twinx()\n",
    "ax3 = fig1.add_subplot(gs[0,0], sharex=ax1)\n",
    "\n",
    "tit = main_label+ ' ' + case_label\n",
    "plot_lattice_elements(ax3,'isis_twiss.tfs',suppress_x=True)\n",
    "\n",
    "#ax1.set_title(tit);\n",
    "fig1.suptitle(tit);\n",
    "ax1.plot(madx_twiss.s, (madx_twiss.betx+madx_twiss.bety)/2, color='b', lw=0.5)\n",
    "ax1.plot(ptc_twiss.s, (ptc_twiss.betx+ptc_twiss.bety)/2, color='b', ls=':')\n",
    "\n",
    "ax1.set_xlabel('S [m]')\n",
    "ax1.set_ylabel(r'$\\left(\\frac{\\beta_x + \\beta_y}{2}\\right)$ [m]', color='b')\n",
    "#ax2.set_ylabel(r'$\\beta_y$ [m]', color='r')\n",
    "\n",
    "ax1.grid(which='both', ls=':', color='grey')\n",
    "ax3.grid(which='major', ls=':', color='grey')\n",
    "\n",
    "ax1.set_ylim(0,20)\n",
    "#ax2.set_ylim(0,20)\n",
    "ax1.set_xlim(0,16.3)\n",
    "\n",
    "\n",
    "legend_elements = [Line2D([0], [0], color='k', lw=0.5, label='MADX Twiss'), Line2D([0], [0], color='k', ls=':', label='PTC Twiss')]\n",
    "\n",
    "ax1.legend(handles=legend_elements, loc=1)\n",
    "\n",
    "fig1.tight_layout()\n",
    "\n",
    "savename = save_folder + 'ISIS_I_Average_Beta_Functions_zoom.png'\n",
    "plt.savefig(savename)"
   ]
  },
  {
   "cell_type": "code",
   "execution_count": null,
   "metadata": {},
   "outputs": [],
   "source": [
    "case_label = 'Dispersion'\n",
    "\n",
    "fig1 = plt.figure(facecolor='w', edgecolor='k')\n",
    "gs = fig1.add_gridspec(ncols=1,nrows=2, height_ratios=[1,4])\n",
    "gs.update(wspace=0.025, hspace=0.)\n",
    "\n",
    "ax1 = fig1.add_subplot(gs[1,0])\n",
    "ax2 = ax1.twinx()\n",
    "ax3 = fig1.add_subplot(gs[0,0], sharex=ax1)\n",
    "\n",
    "tit = main_label+ ' ' + case_label\n",
    "plot_lattice_elements(ax3,'isis_twiss.tfs',suppress_x=True)\n",
    "\n",
    "#ax1.set_title(tit);\n",
    "fig1.suptitle(tit);\n",
    "ax1.plot(madx_twiss.s, madx_twiss.dx, color='b', lw=0.5)\n",
    "ax1.plot(ptc_twiss.s, ptc_twiss.disp1/beta_rel, color='b', ls=':')\n",
    "ax2.plot(madx_twiss.s, madx_twiss.dy, color='r', lw=0.5)\n",
    "ax2.plot(ptc_twiss.s, ptc_twiss.disp3/beta_rel, color='r', ls=':')\n",
    "\n",
    "ax1.set_xlabel('S [m]')\n",
    "ax1.set_ylabel(r'$D_x$ [m]', color='b')\n",
    "ax2.set_ylabel(r'$D_y$ [m]', color='r')\n",
    "\n",
    "ax1.grid(which='both', ls=':', color='grey')\n",
    "ax3.grid(which='major', ls=':', color='grey')\n",
    "\n",
    "#ax1.set_ylim(0,20)\n",
    "#ax2.set_ylim(0,20)\n",
    "#ax1.set_xlim(0,16.3)\n",
    "\n",
    "\n",
    "legend_elements = [Line2D([0], [0], color='k', lw=0.5, label='MADX Twiss'), Line2D([0], [0], color='k', ls=':', label='PTC Twiss')]\n",
    "\n",
    "ax1.legend(handles=legend_elements, loc=1)\n",
    "\n",
    "fig1.tight_layout()\n",
    "\n",
    "savename = save_folder + 'ISIS_I_Dispersion.png'\n",
    "plt.savefig(savename)"
   ]
  },
  {
   "cell_type": "code",
   "execution_count": null,
   "metadata": {},
   "outputs": [],
   "source": [
    "case_label = 'Phase Advance'\n",
    "\n",
    "fig1 = plt.figure(facecolor='w', edgecolor='k')\n",
    "gs = fig1.add_gridspec(ncols=1,nrows=2, height_ratios=[1,4])\n",
    "\n",
    "ax1 = fig1.add_subplot(gs[1,0])\n",
    "ax2 = ax1.twinx()\n",
    "ax3 = fig1.add_subplot(gs[0,0], sharex=ax1)\n",
    "\n",
    "tit = main_label+ ' ' + case_label\n",
    "plot_lattice_elements(ax3,'isis_twiss.tfs')\n",
    "\n",
    "ax1.set_title(tit);\n",
    "ax1.plot(madx_twiss.s, madx_twiss.mux, color='b', lw=0.5)\n",
    "ax1.plot(ptc_twiss.s, ptc_twiss.mu1, color='b', ls=':')\n",
    "ax2.plot(madx_twiss.s, madx_twiss.muy, color='r', lw=0.5)\n",
    "ax2.plot(ptc_twiss.s, ptc_twiss.mu2, color='r', ls=':')\n",
    "\n",
    "ax1.set_xlabel('S [m]')\n",
    "ax1.set_ylabel(r'$\\mu_x$ [-]', color='b')\n",
    "ax2.set_ylabel(r'$\\mu_y$ [-]', color='r')\n",
    "\n",
    "ax1.grid(which='both', ls=':', color='grey')\n",
    "ax3.grid(which='major', ls=':', color='grey')\n",
    "\n",
    "ax1.set_ylim(0,4.5)\n",
    "ax2.set_ylim(0,4.5)\n",
    "#ax1.set_xlim(0,16.3)\n",
    "\n",
    "\n",
    "legend_elements = [Line2D([0], [0], color='k', lw=0.5, label='MADX Twiss'), Line2D([0], [0], color='k', ls=':', label='PTC Twiss')]\n",
    "\n",
    "ax1.legend(handles=legend_elements, loc=2)\n",
    "\n",
    "fig1.tight_layout()\n",
    "\n",
    "savename = save_folder + 'ISIS_I_Phase_Advance_zoom.png'\n",
    "plt.savefig(savename)"
   ]
  },
  {
   "cell_type": "code",
   "execution_count": null,
   "metadata": {},
   "outputs": [],
   "source": [
    "case_label = 'Dispersion'\n",
    "\n",
    "fig1 = plt.figure(facecolor='w', edgecolor='k')\n",
    "gs = fig1.add_gridspec(ncols=1,nrows=2, height_ratios=[1,4])\n",
    "\n",
    "ax1 = fig1.add_subplot(gs[1,0])\n",
    "ax2 = ax1.twinx()\n",
    "ax3 = fig1.add_subplot(gs[0,0], sharex=ax1)\n",
    "\n",
    "tit = main_label+ ' ' + case_label\n",
    "plot_lattice_elements(ax3,'isis_twiss.tfs')\n",
    "\n",
    "ax1.set_title(tit);\n",
    "ax1.plot(madx_twiss.s, madx_twiss.dx, color='b', lw=0.5)\n",
    "ax1.plot(ptc_twiss.s, ptc_twiss.disp1/beta_rel, color='b', ls=':')\n",
    "ax2.plot(madx_twiss.s, madx_twiss.dy, color='r', lw=0.5)\n",
    "ax2.plot(ptc_twiss.s, ptc_twiss.disp3/beta_rel, color='r', ls=':')\n",
    "\n",
    "ax1.set_xlabel('S [m]')\n",
    "ax1.set_ylabel(r'$D_x$ [m]', color='b')\n",
    "ax2.set_ylabel(r'$D_y$ [m]', color='r')\n",
    "\n",
    "ax1.grid(which='both', ls=':', color='grey')\n",
    "ax3.grid(which='major', ls=':', color='grey')\n",
    "\n",
    "#ax1.set_ylim(0,20)\n",
    "#ax2.set_ylim(0,20)\n",
    "ax1.set_xlim(0,16.3)\n",
    "\n",
    "\n",
    "legend_elements = [Line2D([0], [0], color='k', lw=0.5, label='MADX Twiss'), Line2D([0], [0], color='k', ls=':', label='PTC Twiss')]\n",
    "\n",
    "ax1.legend(handles=legend_elements, loc=1)\n",
    "\n",
    "fig1.tight_layout()\n",
    "\n",
    "savename = save_folder + 'ISIS_I_Dispersion_zoom.png'\n",
    "plt.savefig(savename)"
   ]
  },
  {
   "cell_type": "code",
   "execution_count": null,
   "metadata": {},
   "outputs": [],
   "source": [
    "case_label = 'Beta & Dispersion'\n",
    "\n",
    "# Make Figure and gridspec for multiplot layout control\n",
    "fig1 = plt.figure(facecolor='w', edgecolor='k', figsize=[8.0, 8.0])\n",
    "gs = fig1.add_gridspec(ncols=1,nrows=3, height_ratios=[1,4,4])\n",
    "gs.update(wspace=0.025, hspace=0.)\n",
    "\n",
    "ax1 = fig1.add_subplot(gs[1,0])\n",
    "ax2 = ax1.twinx()\n",
    "ax3 = fig1.add_subplot(gs[0,0], sharex=ax1)\n",
    "ax4 = fig1.add_subplot(gs[2,0], sharex=ax1)\n",
    "\n",
    "tit = main_label+ ' ' + case_label\n",
    "fig1.suptitle(tit);\n",
    "\n",
    "# Function to add accelerator block diagram\n",
    "plot_lattice_elements(ax3,'isis_twiss.tfs', suppress_x=True)\n",
    "\n",
    "# Plots from PTC/MADX Twiss\n",
    "ax1.plot(madx_twiss.s, madx_twiss.betx, color='b', lw=0.5)\n",
    "ax1.plot(ptc_twiss.s, ptc_twiss.betx, color='b', ls=':')\n",
    "ax2.plot(madx_twiss.s, madx_twiss.bety, color='r', lw=0.5)\n",
    "ax2.plot(ptc_twiss.s, ptc_twiss.bety, color='r', ls=':')\n",
    "ax4.plot(madx_twiss.s, madx_twiss.dx, color='b', lw=0.5)\n",
    "ax4.plot(ptc_twiss.s, ptc_twiss.disp1/beta_rel, color='b', ls=':')\n",
    "\n",
    "ax1.set_xlabel('S [m]')\n",
    "ax1.set_ylabel(r'$\\beta_x$ [m]', color='b')\n",
    "ax2.set_ylabel(r'$\\beta_y$ [m]', color='r')\n",
    "ax4.set_xlabel('S [m]')\n",
    "ax4.set_ylabel(r'$D_x$ [m]', color='b')\n",
    "\n",
    "# Suppress middle plot x ticks and labels\n",
    "ax1.tick_params(axis='x', which='both', bottom='off', top='off', labelbottom='off')        \n",
    "\n",
    "# Add grids\n",
    "ax1.grid(which='both', ls=':', color='grey')\n",
    "ax3.grid(which='major', ls=':', color='grey')\n",
    "ax4.grid(which='both', ls=':', color='grey')\n",
    "\n",
    "ax1.set_ylim(0,20)\n",
    "ax2.set_ylim(0,20)\n",
    "ax1.set_xlim(0,16.3)\n",
    "\n",
    "# Custom legend\n",
    "legend_elements = [Line2D([0], [0], color='k', lw=0.5, label='MADX Twiss'), Line2D([0], [0], color='k', ls=':', label='PTC Twiss')]\n",
    "ax1.legend(handles=legend_elements, loc=1)\n",
    "ax4.legend(handles=legend_elements, loc=1)\n",
    "\n",
    "# Save\n",
    "fig1.tight_layout()\n",
    "savename = save_folder + 'ISIS_I_Beta_Dispersion_zoom.png'\n",
    "plt.savefig(savename)"
   ]
  },
  {
   "cell_type": "markdown",
   "metadata": {},
   "source": [
    "## Plot machine survey"
   ]
  },
  {
   "cell_type": "code",
   "execution_count": null,
   "metadata": {},
   "outputs": [],
   "source": [
    "madx.input('survey;')\n",
    "mySurvey=madx.table.survey.dframe()"
   ]
  },
  {
   "cell_type": "code",
   "execution_count": null,
   "metadata": {},
   "outputs": [],
   "source": [
    "plt.plot(mySurvey.x,mySurvey.z,'o-k')\n",
    "plt.axis('square');\n",
    "plt.xlabel('X [m]')\n",
    "plt.ylabel('Z [m]')\n",
    "plt.grid()"
   ]
  },
  {
   "cell_type": "code",
   "execution_count": null,
   "metadata": {},
   "outputs": [],
   "source": [
    "qfSurvey=mySurvey[mySurvey['name'].str.contains('qf')]\n",
    "qdSurvey=mySurvey[mySurvey['name'].str.contains('qd')]\n",
    "mbSurvey=mySurvey[mySurvey['name'].str.contains('mb')]\n",
    "\n",
    "plt.plot(qfSurvey.x,qfSurvey.z,'ob')\n",
    "plt.plot(qdSurvey.x,qdSurvey.z,'or')\n",
    "plt.plot(mbSurvey.x,mbSurvey.z,'.k')\n",
    "\n",
    "plt.axis('square');\n",
    "plt.xlabel('X [m]')\n",
    "plt.ylabel('Z [m]')\n",
    "plt.grid()"
   ]
  }
 ],
 "metadata": {
  "kernelspec": {
   "display_name": "Python 3",
   "language": "python",
   "name": "python3"
  },
  "language_info": {
   "codemirror_mode": {
    "name": "ipython",
    "version": 3
   },
   "file_extension": ".py",
   "mimetype": "text/x-python",
   "name": "python",
   "nbconvert_exporter": "python",
   "pygments_lexer": "ipython3",
   "version": "3.9.2"
  }
 },
 "nbformat": 4,
 "nbformat_minor": 2
}
